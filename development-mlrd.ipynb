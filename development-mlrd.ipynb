{
 "cells": [
  {
   "cell_type": "markdown",
   "metadata": {},
   "source": [
    "# Temproal Object Type Model\n",
    "\n",
    "This notebook is used for the development phase of the algorithm."
   ]
  },
  {
   "cell_type": "code",
   "execution_count": 36,
   "metadata": {
    "ExecuteTime": {
     "end_time": "2025-02-09T13:59:42.332921600Z",
     "start_time": "2025-02-09T13:59:42.316092200Z"
    }
   },
   "outputs": [],
   "source": [
    "# imports\n",
    "from datetime import datetime\n",
    "from ocpa.objects.log.importer.ocel2.sqlite import factory as ocel_import_factory\n",
    "#from ocpa.objects.log.importer.ocel2.xml import factory as ocel_import_factory\n",
    "import json\n",
    "from pulp import *"
   ]
  },
  {
   "cell_type": "markdown",
   "source": [
    "## Algorithm based on process executions and connected components"
   ],
   "metadata": {
    "collapsed": false
   }
  },
  {
   "cell_type": "code",
   "execution_count": 10,
   "outputs": [
    {
     "name": "stdout",
     "output_type": "stream",
     "text": [
      "Index(['event_id', 'event_activity', 'event_timestamp', 'customers',\n",
      "       'employees', 'items', 'orders', 'packages', 'products'],\n",
      "      dtype='object')\n",
      "['employees', 'customers', 'products', 'orders', 'items', 'packages']\n",
      "1\n"
     ]
    }
   ],
   "source": [
    "# load the log\n",
    "# filename = \"./example-data/running-example.sqlite\"\n",
    "# filename = \"./example-data/totm-example.sqlite\"\n",
    "# filename = \"./example-data/ContainerLogistics.sqlite\"\n",
    "# filename = \"./example-data/logistics.sqlite\"\n",
    "filename = \"./example-data/order-management.sqlite\"\n",
    "# filename = \"./example-data/order-management.xml\"\n",
    "# filename = \"./example-data/order-management-ocel-1.sqlite\"\n",
    "# filename = \"./example-data/test-during.sqlite\"\n",
    "# filename = \"./example-data/test-initiating.sqlite\"\n",
    "DATEFORMAT = \"%Y-%m-%d %H:%M:%S\"\n",
    "ocel = ocel_import_factory.apply(filename)\n",
    "\n",
    "print(len(ocel.process_executions))"
   ],
   "metadata": {
    "collapsed": false,
    "ExecuteTime": {
     "end_time": "2025-02-09T12:09:45.932039400Z",
     "start_time": "2025-02-09T12:06:07.963735Z"
    }
   }
  },
  {
   "cell_type": "code",
   "execution_count": 11,
   "outputs": [],
   "source": [
    "# temporal relation constants (constants serving as a representation that is easier to understand than just the numbers)\n",
    "TR_TOTAL = \"total\"\n",
    "TR_DEPENDENT = \"D\"\n",
    "TR_DEPENDENT_INVERSE = \"Di\"\n",
    "TR_INITIATING = \"I\"\n",
    "TR_INITIATING_REVERSE = \"Ii\"\n",
    "TR_PARALLEL = \"P\"\n",
    "\n",
    "# Event cardinality constants\n",
    "EC_TOTAL = \"total\"\n",
    "EC_ZERO = \"0\"\n",
    "EC_ONE = \"1\"\n",
    "EC_ZERO_ONE = \"0...1\"\n",
    "EC_MANY = \"1..*\"\n",
    "EC_ZERO_MANY = \"0...*\"\n",
    "\n",
    "# Event cardinality constants\n",
    "LC_TOTAL = \"total\"\n",
    "LC_ZERO = \"0\"\n",
    "LC_ONE = \"1\"\n",
    "LC_ZERO_ONE = \"0...1\"\n",
    "LC_MANY = \"1..*\"\n",
    "LC_ZERO_MANY = \"0...*\"\n",
    "\n",
    "DATEFORMAT = \"%Y-%m-%d %H:%M:%S\""
   ],
   "metadata": {
    "collapsed": false,
    "ExecuteTime": {
     "end_time": "2025-02-09T12:09:45.958387500Z",
     "start_time": "2025-02-09T12:09:45.932039400Z"
    }
   }
  },
  {
   "cell_type": "code",
   "execution_count": 12,
   "outputs": [],
   "source": [
    "# Help functions for OCEL2.0\n",
    "\n",
    "def get_all_event_objects(ocel, event_id):\n",
    "    obj_ids = []\n",
    "    for obj_type in ocel.object_types:\n",
    "        obj_ids += ocel.get_value(event_id, obj_type)\n",
    "    return obj_ids\n"
   ],
   "metadata": {
    "collapsed": false,
    "ExecuteTime": {
     "end_time": "2025-02-09T12:09:45.990560400Z",
     "start_time": "2025-02-09T12:09:45.947832100Z"
    }
   }
  },
  {
   "cell_type": "code",
   "execution_count": 13,
   "outputs": [],
   "source": [
    "def get_most_precise_lc(directed_type_tuple, tau, log_cardinalities):\n",
    "    total = 0\n",
    "    if directed_type_tuple in log_cardinalities.keys() and LC_TOTAL in log_cardinalities[directed_type_tuple].keys():\n",
    "        total = log_cardinalities[directed_type_tuple][LC_TOTAL]\n",
    "\n",
    "    if total == 0:\n",
    "        return \"ERROR 0\"\n",
    "\n",
    "    if (LC_ZERO in log_cardinalities[directed_type_tuple].keys()) and (\n",
    "            (log_cardinalities[directed_type_tuple][LC_ZERO] / total) >= tau):\n",
    "        return LC_ZERO\n",
    "    if (LC_ONE in log_cardinalities[directed_type_tuple].keys()) and (\n",
    "            (log_cardinalities[directed_type_tuple][LC_ONE] / total) >= tau):\n",
    "        return LC_ONE\n",
    "    if (LC_ZERO_ONE in log_cardinalities[directed_type_tuple].keys()) and (\n",
    "            (log_cardinalities[directed_type_tuple][LC_ZERO_ONE] / total) >= tau):\n",
    "        return LC_ZERO_ONE\n",
    "    if (LC_MANY in log_cardinalities[directed_type_tuple].keys()) and (\n",
    "            (log_cardinalities[directed_type_tuple][LC_MANY] / total) >= tau):\n",
    "        return LC_MANY\n",
    "    if (LC_ZERO_MANY in log_cardinalities[directed_type_tuple].keys()) and (\n",
    "            (log_cardinalities[directed_type_tuple][LC_ZERO_MANY] / total) >= tau):\n",
    "        return LC_ZERO_MANY\n",
    "\n",
    "    return \"None\"\n",
    "\n",
    "\n",
    "def get_most_precise_ec(directed_type_tuple, tau, event_cardinalities):\n",
    "    total = 0\n",
    "    if directed_type_tuple in event_cardinalities.keys() and EC_TOTAL in event_cardinalities[\n",
    "        directed_type_tuple].keys():\n",
    "        total = event_cardinalities[directed_type_tuple][EC_TOTAL]\n",
    "\n",
    "    if total == 0:\n",
    "        return \"ERROR 0\"\n",
    "\n",
    "    if (EC_ZERO in event_cardinalities[directed_type_tuple].keys()) and (\n",
    "            (event_cardinalities[directed_type_tuple][EC_ZERO] / total) >= tau):\n",
    "        return EC_ZERO\n",
    "    if (EC_ONE in event_cardinalities[directed_type_tuple].keys()) and (\n",
    "            (event_cardinalities[directed_type_tuple][EC_ONE] / total) >= tau):\n",
    "        return EC_ONE\n",
    "    if (EC_ZERO_ONE in event_cardinalities[directed_type_tuple].keys()) and (\n",
    "            (event_cardinalities[directed_type_tuple][EC_ZERO_ONE] / total) >= tau):\n",
    "        return EC_ZERO_ONE\n",
    "    if (EC_MANY in event_cardinalities[directed_type_tuple].keys()) and (\n",
    "            (event_cardinalities[directed_type_tuple][EC_MANY] / total) >= tau):\n",
    "        return EC_MANY\n",
    "    if (EC_ZERO_MANY in event_cardinalities[directed_type_tuple].keys()) and (\n",
    "            (event_cardinalities[directed_type_tuple][EC_ZERO_MANY] / total) >= tau):\n",
    "        return EC_ZERO_MANY\n",
    "\n",
    "    return \"None\"\n",
    "\n",
    "\n",
    "def get_most_precise_tr(directed_type_tuple, tau, temporal_relation):\n",
    "    total = 0\n",
    "    if directed_type_tuple in temporal_relation.keys() and EC_TOTAL in temporal_relation[directed_type_tuple].keys():\n",
    "        total = temporal_relation[directed_type_tuple][EC_TOTAL]\n",
    "\n",
    "    if total == 0:\n",
    "        return \"ERROR 0\"\n",
    "\n",
    "    if (TR_DEPENDENT in temporal_relation[directed_type_tuple].keys()) and (\n",
    "            (temporal_relation[directed_type_tuple][TR_DEPENDENT] / total) >= tau):\n",
    "        return TR_DEPENDENT\n",
    "    if (TR_DEPENDENT_INVERSE in temporal_relation[directed_type_tuple].keys()) and (\n",
    "            (temporal_relation[directed_type_tuple][TR_DEPENDENT_INVERSE] / total) >= tau):\n",
    "        return TR_DEPENDENT_INVERSE\n",
    "    if (TR_INITIATING in temporal_relation[directed_type_tuple].keys()) and (\n",
    "            (temporal_relation[directed_type_tuple][TR_INITIATING] / total) >= tau):\n",
    "        return TR_INITIATING\n",
    "    if (TR_INITIATING_REVERSE in temporal_relation[directed_type_tuple].keys()) and (\n",
    "            (temporal_relation[directed_type_tuple][TR_INITIATING_REVERSE] / total) >= tau):\n",
    "        return TR_INITIATING_REVERSE\n",
    "    if (TR_PARALLEL in temporal_relation[directed_type_tuple].keys()) and (\n",
    "            (temporal_relation[directed_type_tuple][TR_PARALLEL] / total) >= tau):\n",
    "        return TR_PARALLEL\n",
    "\n",
    "    return \"None\""
   ],
   "metadata": {
    "collapsed": false,
    "ExecuteTime": {
     "end_time": "2025-02-09T12:09:45.990560400Z",
     "start_time": "2025-02-09T12:09:45.974395Z"
    }
   }
  },
  {
   "cell_type": "code",
   "execution_count": 108,
   "outputs": [
    {
     "name": "stdout",
     "output_type": "stream",
     "text": [
      "employees -> items\n",
      "LC: 1..* - 1..*\n",
      "EC: 0...1 - 1..*\n",
      "TR: Di\n",
      "\n",
      "products -> orders\n",
      "LC: 1..* - 1..*\n",
      "EC: 1..* - 0...1\n",
      "TR: Di\n",
      "\n",
      "packages -> items\n",
      "LC: 1 - 1..*\n",
      "EC: 0...1 - 1..*\n",
      "TR: D\n",
      "\n",
      "customers -> orders\n",
      "LC: 1 - 1..*\n",
      "EC: 0...1 - 1\n",
      "TR: Di\n",
      "\n",
      "orders -> items\n",
      "LC: 1 - 1..*\n",
      "EC: 0...1 - 1..*\n",
      "TR: D\n",
      "\n",
      "products -> packages\n",
      "LC: 1..* - 1..*\n",
      "EC: 1..* - 0...1\n",
      "TR: Di\n",
      "\n",
      "products -> customers\n",
      "LC: 1..* - 1..*\n",
      "EC: 1..* - 0...1\n",
      "TR: P\n",
      "\n",
      "orders -> employees\n",
      "LC: 0...* - 1\n",
      "EC: 0...1 - 0...1\n",
      "TR: D\n",
      "\n",
      "customers -> items\n",
      "LC: 1 - 1..*\n",
      "EC: 0...1 - 1..*\n",
      "TR: Di\n",
      "\n",
      "products -> items\n",
      "LC: 1..* - 1..*\n",
      "EC: 1..* - 1..*\n",
      "TR: Di\n",
      "\n",
      "products -> employees\n",
      "LC: 1..* - 1..*\n",
      "EC: 1..* - 0...1\n",
      "TR: P\n",
      "\n",
      "packages -> employees\n",
      "LC: 0...* - 1..*\n",
      "EC: 0...1 - 1..*\n",
      "TR: D\n",
      "\n",
      "customers -> employees\n",
      "LC: 0...* - 1..*\n",
      "EC: 0...1 - 0...1\n",
      "TR: P\n"
     ]
    }
   ],
   "source": [
    "# def mine_totem(ocel, tau=1):\n",
    "tau = 0.9\n",
    "\n",
    "\n",
    "# object type to event type dict\n",
    "obj_typ_to_ev_type: dict[str, set[str]] = dict()\n",
    "all_event_types = set()\n",
    "\n",
    "# temporal relations results\n",
    "h_temporal_relations: dict[tuple[str, str], dict[str, int]] = dict()  # stores all the temporal relations found\n",
    "# event cardinality results\n",
    "h_event_cardinalities: dict[tuple[str, str], dict[str, int]] = dict()  # stores all the temporal cardinalities found\n",
    "# event cardinality results\n",
    "h_log_cardinalities: dict[tuple[str, str], dict[str, int]] = dict()  # stores all the temporal cardinalities found\n",
    "\n",
    "# object min times (omint_L(o))\n",
    "o_min_times: dict[\n",
    "    str, datetime] = dict()  # str identifier of the object maps to the earliest time recorded for that object in the event log\n",
    "# object max times (omaxt_L(o))\n",
    "o_max_times: dict[\n",
    "    str, datetime] = dict()  # str identifier of the object maps to the last time recorded for that object in the event log\n",
    "\n",
    "# get a list of all object types (or variable that is filled while passing through the process executions)\n",
    "type_relations: set[set[str, str]] = set()  # stores all connected types\n",
    "\n",
    "o2o_o2o: dict[str, dict[str, set[\n",
    "    str]]] = dict()  # dict that describes which objects are connected to which types and for each type which object\n",
    "# o2o[obj1][type3] = [obj5, obj6]\n",
    "o2o_e2o: dict[str, dict[str, set[str]]] = dict()\n",
    "o2o: dict[str, dict[str, set[str]]] = dict()\n",
    "\n",
    "# a mapping from type to its objects\n",
    "type_to_object = dict()\n",
    "\n",
    "for px in ocel.process_executions:\n",
    "    for ev in px:\n",
    "        # event infos: objects and timestamps\n",
    "        ev_timestamp = datetime.strptime(str(ocel.get_value(ev, 'event_timestamp')), DATEFORMAT)\n",
    "\n",
    "        objects_of_event = get_all_event_objects(ocel, ev)\n",
    "        for obj in objects_of_event:\n",
    "            # o2o updating\n",
    "            o2o.setdefault(obj, dict())\n",
    "            for type in ocel.object_types:\n",
    "                o2o[obj].setdefault(type, set())\n",
    "                o2o[obj][type].update(\n",
    "                    ocel.get_value(ev, type))  # add all objects connected via e2o to each object involved\n",
    "            # update lifespan information\n",
    "            o_min_times.setdefault(obj, ev_timestamp)\n",
    "            if ev_timestamp < o_min_times[obj]:  # todo check if comparison of datetimes works correctly here\n",
    "                o_min_times[obj] = ev_timestamp\n",
    "            o_max_times.setdefault(obj, ev_timestamp)\n",
    "            if ev_timestamp > o_max_times[obj]:  # todo check if comparison of datetimes works correctly here\n",
    "                o_max_times[obj] = ev_timestamp\n",
    "                \n",
    "        # maintain object type to event type dictionary\n",
    "        eventtype = ocel.get_value(ev, 'event_activity')\n",
    "        all_event_types.add(eventtype)\n",
    "        for type in ocel.object_types:\n",
    "            if len(ocel.get_value(ev, type)) > 0:\n",
    "                obj_typ_to_ev_type.setdefault(type, set())\n",
    "                obj_typ_to_ev_type[type].add(eventtype)\n",
    "\n",
    "        # compute event cardinality\n",
    "        involved_types = []\n",
    "        obj_count_per_type = dict()\n",
    "        for type in ocel.object_types:\n",
    "            obj_list = ocel.get_value(ev, type)\n",
    "            if not obj_list:\n",
    "                continue\n",
    "            else:\n",
    "                type_to_object.setdefault(type, set())\n",
    "                type_to_object[type].update(obj_list)\n",
    "                involved_types.append(type)\n",
    "                obj_count_per_type[type] = len(obj_list)\n",
    "        # created related types\n",
    "        for t1 in involved_types:\n",
    "            for t2 in involved_types:\n",
    "                if t1 != t2:\n",
    "                    type_relations.add(frozenset({t1, t2}))\n",
    "        # for all type pairs determine\n",
    "        for type_source in involved_types:\n",
    "            for type_target in ocel.object_types:\n",
    "                # add one to total\n",
    "                h_event_cardinalities.setdefault((type_source, type_target), dict())\n",
    "                h_event_cardinalities[(type_source, type_target)].setdefault(EC_TOTAL, 0)\n",
    "                h_event_cardinalities[(type_source, type_target)][EC_TOTAL] += 1\n",
    "                # determine cardinality\n",
    "                cardinality = 0\n",
    "                if type_target in obj_count_per_type.keys():\n",
    "                    cardinality = obj_count_per_type[type_target]\n",
    "                # add one to matching cardinalities\n",
    "                if cardinality == 0:\n",
    "                    h_event_cardinalities[(type_source, type_target)].setdefault(EC_ZERO, 0)\n",
    "                    h_event_cardinalities[(type_source, type_target)][EC_ZERO] += 1\n",
    "                    h_event_cardinalities[(type_source, type_target)].setdefault(EC_ZERO_ONE, 0)\n",
    "                    h_event_cardinalities[(type_source, type_target)][EC_ZERO_ONE] += 1\n",
    "                    h_event_cardinalities[(type_source, type_target)].setdefault(EC_ZERO_MANY, 0)\n",
    "                    h_event_cardinalities[(type_source, type_target)][EC_ZERO_MANY] += 1\n",
    "                elif cardinality == 1:\n",
    "                    h_event_cardinalities[(type_source, type_target)].setdefault(EC_ONE, 0)\n",
    "                    h_event_cardinalities[(type_source, type_target)][EC_ONE] += 1\n",
    "                    h_event_cardinalities[(type_source, type_target)].setdefault(EC_ZERO_ONE, 0)\n",
    "                    h_event_cardinalities[(type_source, type_target)][EC_ZERO_ONE] += 1\n",
    "                    h_event_cardinalities[(type_source, type_target)].setdefault(EC_MANY, 0)\n",
    "                    h_event_cardinalities[(type_source, type_target)][EC_MANY] += 1\n",
    "                    h_event_cardinalities[(type_source, type_target)].setdefault(EC_ZERO_MANY, 0)\n",
    "                    h_event_cardinalities[(type_source, type_target)][EC_ZERO_MANY] += 1\n",
    "                elif cardinality > 1:\n",
    "                    h_event_cardinalities[(type_source, type_target)].setdefault(EC_MANY, 0)\n",
    "                    h_event_cardinalities[(type_source, type_target)][EC_MANY] += 1\n",
    "                    h_event_cardinalities[(type_source, type_target)].setdefault(EC_ZERO_MANY, 0)\n",
    "                    h_event_cardinalities[(type_source, type_target)][EC_ZERO_MANY] += 1\n",
    "\n",
    "# merge o2o and e2o connected objects\n",
    "for (source_o, target_o) in ocel.o2o_graph.graph.edges:\n",
    "    # print(f\"{source_o} - {target_o}\")\n",
    "    type_of_target_o = None\n",
    "    for type in ocel.object_types:\n",
    "        if target_o in type_to_object[type]:\n",
    "            type_of_target_o = type\n",
    "            break\n",
    "    if type_of_target_o == None:\n",
    "        continue\n",
    "    o2o.setdefault(source_o, dict())\n",
    "    o2o[source_o].setdefault(type_of_target_o, set())\n",
    "    o2o[source_o][type_of_target_o].update([source_o])\n",
    "\n",
    "# compute log cardinality\n",
    "for type_source in ocel.object_types:\n",
    "    for type_target in ocel.object_types:\n",
    "        h_temporal_relations.setdefault((type_source, type_target), dict())\n",
    "        for obj in type_to_object[type_source]:\n",
    "            h_log_cardinalities.setdefault((type_source, type_target), dict())\n",
    "            h_log_cardinalities[(type_source, type_target)].setdefault(LC_TOTAL, 0)\n",
    "            h_log_cardinalities[(type_source, type_target)][LC_TOTAL] += 1\n",
    "\n",
    "            cardinality = len(o2o[obj][type_target])\n",
    "            #if type_source == 'products':\n",
    "            #    print(f\"Obj: {obj} Typ: {type_target} Card: {cardinality}\")\n",
    "\n",
    "            if cardinality == 0:\n",
    "                h_log_cardinalities[(type_source, type_target)].setdefault(LC_ZERO, 0)\n",
    "                h_log_cardinalities[(type_source, type_target)][LC_ZERO] += 1\n",
    "                h_log_cardinalities[(type_source, type_target)].setdefault(LC_ZERO_ONE, 0)\n",
    "                h_log_cardinalities[(type_source, type_target)][LC_ZERO_ONE] += 1\n",
    "                h_log_cardinalities[(type_source, type_target)].setdefault(LC_ZERO_MANY, 0)\n",
    "                h_log_cardinalities[(type_source, type_target)][LC_ZERO_MANY] += 1\n",
    "            elif cardinality == 1:\n",
    "                h_log_cardinalities[(type_source, type_target)].setdefault(LC_ONE, 0)\n",
    "                h_log_cardinalities[(type_source, type_target)][LC_ONE] += 1\n",
    "                h_log_cardinalities[(type_source, type_target)].setdefault(LC_ZERO_ONE, 0)\n",
    "                h_log_cardinalities[(type_source, type_target)][LC_ZERO_ONE] += 1\n",
    "                h_log_cardinalities[(type_source, type_target)].setdefault(LC_MANY, 0)\n",
    "                h_log_cardinalities[(type_source, type_target)][LC_MANY] += 1\n",
    "                h_log_cardinalities[(type_source, type_target)].setdefault(LC_ZERO_MANY, 0)\n",
    "                h_log_cardinalities[(type_source, type_target)][LC_ZERO_MANY] += 1\n",
    "            elif cardinality > 1:\n",
    "                h_log_cardinalities[(type_source, type_target)].setdefault(LC_MANY, 0)\n",
    "                h_log_cardinalities[(type_source, type_target)][LC_MANY] += 1\n",
    "                h_log_cardinalities[(type_source, type_target)].setdefault(LC_ZERO_MANY, 0)\n",
    "                h_log_cardinalities[(type_source, type_target)][LC_ZERO_MANY] += 1\n",
    "\n",
    "            # compute temporal relations\n",
    "            for obj_target in o2o[obj][type_target]:\n",
    "                h_temporal_relations[(type_source, type_target)].setdefault(TR_TOTAL, 0)\n",
    "                h_temporal_relations[(type_source, type_target)][TR_TOTAL] += 1\n",
    "                if o_min_times[obj_target] <= o_min_times[obj] <= o_max_times[obj] <= o_max_times[obj_target]:\n",
    "                    h_temporal_relations[(type_source, type_target)].setdefault(TR_DEPENDENT, 0)\n",
    "                    h_temporal_relations[(type_source, type_target)][TR_DEPENDENT] += 1\n",
    "                if o_min_times[obj] <= o_min_times[obj_target] <= o_max_times[obj_target] <= o_max_times[obj]:\n",
    "                    h_temporal_relations[(type_source, type_target)].setdefault(TR_DEPENDENT_INVERSE, 0)\n",
    "                    h_temporal_relations[(type_source, type_target)][TR_DEPENDENT_INVERSE] += 1\n",
    "                if (o_min_times[obj] <= o_max_times[obj] <= o_min_times[obj_target] <= o_max_times[obj_target]) or (\n",
    "                        o_min_times[obj] < o_min_times[obj_target] <= o_max_times[obj] < o_max_times[obj_target]):\n",
    "                    h_temporal_relations[(type_source, type_target)].setdefault(TR_INITIATING, 0)\n",
    "                    h_temporal_relations[(type_source, type_target)][TR_INITIATING] += 1\n",
    "                if (o_min_times[obj_target] <= o_max_times[obj_target] <= o_min_times[obj] <= o_max_times[obj]) or (\n",
    "                        o_min_times[obj_target] < o_min_times[obj] <= o_max_times[obj_target] < o_max_times[obj]):\n",
    "                    h_temporal_relations[(type_source, type_target)].setdefault(TR_INITIATING_REVERSE, 0)\n",
    "                    h_temporal_relations[(type_source, type_target)][TR_INITIATING_REVERSE] += 1\n",
    "                # allways parallel\n",
    "                h_temporal_relations[(type_source, type_target)].setdefault(TR_PARALLEL, 0)\n",
    "                h_temporal_relations[(type_source, type_target)][TR_PARALLEL] += 1\n",
    "\n",
    "# setup temporal graph\n",
    "tempgraph = {\n",
    "    'nodes': set(),\n",
    "    TR_PARALLEL: set(),\n",
    "    TR_INITIATING: set(),\n",
    "    TR_DEPENDENT: set(),\n",
    "}\n",
    "\n",
    "# for each connection give the 6 relations\n",
    "for connected_types in type_relations:\n",
    "    t1, t2 = connected_types\n",
    "    tempgraph['nodes'].add(t1)\n",
    "    tempgraph['nodes'].add(t2)\n",
    "    print(f\"{t1} -> {t2}\")\n",
    "\n",
    "    # get log cardinality\n",
    "    lc = get_most_precise_lc((t1, t2), tau, h_log_cardinalities)\n",
    "    lc_i = get_most_precise_lc((t2, t1), tau, h_log_cardinalities)\n",
    "    print(f\"LC: {lc_i} - {lc}\")\n",
    "    # get event cardinality\n",
    "    ec = get_most_precise_ec((t1, t2), tau, h_event_cardinalities)\n",
    "    ec_i = get_most_precise_ec((t2, t1), tau, h_event_cardinalities)\n",
    "    print(f\"EC: {ec_i} - {ec}\")\n",
    "    # get temporal relation\n",
    "    tr = get_most_precise_tr((t1, t2), tau, h_temporal_relations)\n",
    "    tr_i = get_most_precise_tr((t2, t1), tau, h_temporal_relations)\n",
    "    print(f\"TR: {tr}\")\n",
    "    # add relation to tempgraph\n",
    "    if tr == TR_DEPENDENT_INVERSE or tr == TR_INITIATING_REVERSE:\n",
    "        tempgraph[tr_i].add((t2, t1))\n",
    "    else:\n",
    "        tempgraph[tr].add((t1, t2))\n",
    "    # print(f\"TRi: {tr_i}\")\n",
    "    print(\"\")\n"
   ],
   "metadata": {
    "collapsed": false,
    "ExecuteTime": {
     "end_time": "2025-02-09T20:46:11.417631200Z",
     "start_time": "2025-02-09T20:46:07.890868900Z"
    }
   }
  },
  {
   "cell_type": "code",
   "execution_count": 109,
   "outputs": [
    {
     "data": {
      "text/plain": "{'employees': {'confirm order',\n  'create package',\n  'failed delivery',\n  'item out of stock',\n  'package delivered',\n  'pick item',\n  'reorder item',\n  'send package'},\n 'products': {'confirm order',\n  'create package',\n  'failed delivery',\n  'item out of stock',\n  'package delivered',\n  'pay order',\n  'payment reminder',\n  'pick item',\n  'place order',\n  'reorder item',\n  'send package'},\n 'items': {'confirm order',\n  'create package',\n  'failed delivery',\n  'item out of stock',\n  'package delivered',\n  'pay order',\n  'payment reminder',\n  'pick item',\n  'place order',\n  'reorder item',\n  'send package'},\n 'orders': {'confirm order', 'pay order', 'payment reminder', 'place order'},\n 'customers': {'confirm order', 'place order'},\n 'packages': {'create package',\n  'failed delivery',\n  'package delivered',\n  'send package'}}"
     },
     "execution_count": 109,
     "metadata": {},
     "output_type": "execute_result"
    }
   ],
   "source": [
    "obj_typ_to_ev_type"
   ],
   "metadata": {
    "collapsed": false,
    "ExecuteTime": {
     "end_time": "2025-02-09T20:46:11.462955800Z",
     "start_time": "2025-02-09T20:46:11.417631200Z"
    }
   }
  },
  {
   "cell_type": "code",
   "execution_count": 110,
   "outputs": [
    {
     "data": {
      "text/plain": "{'nodes': {'customers',\n  'employees',\n  'items',\n  'orders',\n  'packages',\n  'products'},\n 'P': {('customers', 'employees'),\n  ('products', 'customers'),\n  ('products', 'employees')},\n 'I': set(),\n 'D': {('items', 'customers'),\n  ('items', 'employees'),\n  ('items', 'products'),\n  ('orders', 'customers'),\n  ('orders', 'employees'),\n  ('orders', 'items'),\n  ('orders', 'products'),\n  ('packages', 'employees'),\n  ('packages', 'items'),\n  ('packages', 'products')}}"
     },
     "execution_count": 110,
     "metadata": {},
     "output_type": "execute_result"
    }
   ],
   "source": [
    "tempgraph"
   ],
   "metadata": {
    "collapsed": false,
    "ExecuteTime": {
     "end_time": "2025-02-09T20:46:11.462955800Z",
     "start_time": "2025-02-09T20:46:11.431663700Z"
    }
   }
  },
  {
   "cell_type": "code",
   "execution_count": 111,
   "outputs": [],
   "source": [
    "dummy_totem_tempgraph = {\n",
    "    'nodes': set([\"A\", \"B\", \"C\", \"D\", \"E\"]),\n",
    "    TR_PARALLEL: set([(\"C\", \"D\")]),\n",
    "    TR_INITIATING: set([(\"B\", \"E\")]),\n",
    "    TR_DEPENDENT: set([(\"B\",\"A\"), (\"C\", \"B\"), (\"D\", \"A\")]),\n",
    "}"
   ],
   "metadata": {
    "collapsed": false,
    "ExecuteTime": {
     "end_time": "2025-02-09T20:46:11.483202600Z",
     "start_time": "2025-02-09T20:46:11.447298700Z"
    }
   }
  },
  {
   "cell_type": "code",
   "execution_count": 112,
   "outputs": [
    {
     "data": {
      "text/plain": "layer-assignment:\nMINIMIZE\n1*hp_b\"('customers',_'employees')\" + 1*hp_b\"('products',_'customers')\" + 1*hp_b\"('products',_'employees')\" + 2*level_customers + 3*level_employees + -1*level_items + -4*level_orders + -3*level_packages + 3*level_products + 0\nSUBJECT TO\n_C1: - level_orders + level_products >= 1\n\n_C2: level_items - level_orders >= 1\n\n_C3: level_customers - level_orders >= 1\n\n_C4: - level_packages + level_products >= 1\n\n_C5: level_employees - level_orders >= 1\n\n_C6: - level_items + level_products >= 1\n\n_C7: level_items - level_packages >= 1\n\n_C8: level_customers - level_items >= 1\n\n_C9: level_employees - level_packages >= 1\n\n_C10: level_employees - level_items >= 1\n\n_C11: - hp_b\"('customers',_'employees')\" + level_customers - level_employees\n <= 0\n\n_C12: - hp_b\"('customers',_'employees')\" - level_customers + level_employees\n <= 0\n\n_C13: - hp_b\"('products',_'customers')\" - level_customers + level_products\n <= 0\n\n_C14: - hp_b\"('products',_'customers')\" + level_customers - level_products\n <= 0\n\n_C15: - hp_b\"('products',_'employees')\" - level_employees + level_products\n <= 0\n\n_C16: - hp_b\"('products',_'employees')\" + level_employees - level_products\n <= 0\n\nVARIABLES\nhp_b\"('customers',_'employees')\" free Continuous\nhp_b\"('products',_'customers')\" free Continuous\nhp_b\"('products',_'employees')\" free Continuous\n0 <= level_customers Integer\n0 <= level_employees Integer\n0 <= level_items Integer\n0 <= level_orders Integer\n0 <= level_packages Integer\n0 <= level_products Integer"
     },
     "execution_count": 112,
     "metadata": {},
     "output_type": "execute_result"
    }
   ],
   "source": [
    "# tempGraph = dummy_totem_tempgraph\n",
    "tempGraph = tempgraph\n",
    "\n",
    "# transform tempGraph to ILP\n",
    "model = LpProblem(name=\"layer-assignment\")\n",
    "\n",
    "# Define the decision variables\n",
    "level = {i: LpVariable(name=f\"level-{i}\", lowBound=0, cat='Integer') for i in tempGraph['nodes']}\n",
    "z_parallel = {to_string((t1,t2)): LpVariable(name=f\"hp-{to_string((t1,t2))}\") for (t1, t2) in tempGraph[TR_PARALLEL]}\n",
    "z_initiating = {to_string((t1,t2)): LpVariable(name=f\"hi-{to_string((t1,t2))}\") for (t1, t2) in tempGraph[TR_INITIATING]}\n",
    "\n",
    "# constraints\n",
    "for (t1, t2) in tempGraph[TR_DEPENDENT]:\n",
    "    c = level[t2] - level[t1] >= 1\n",
    "    model += c\n",
    "\n",
    "# for parallel we want to minimize the absolute distance. For absolute values one needs an additional constraint\n",
    "for (t1, t2) in tempGraph[TR_PARALLEL]:\n",
    "    c1 = level[t1] - level[t2] - z_parallel[to_string((t1, t2))] <= 0\n",
    "    c2 = level[t2] - level[t1] - z_parallel[to_string((t1, t2))] <= 0\n",
    "    model += c1\n",
    "    model += c2\n",
    "    \n",
    "# for initiating we want to minimize the absolute distance. For absolute values one needs an additional constraint\n",
    "for (t1, t2) in tempGraph[TR_INITIATING]:\n",
    "    c1 = level[t1] - level[t2] - z_initiating[to_string((t1, t2))] <= 0\n",
    "    c2 = level[t2] - level[t1] - z_initiating[to_string((t1, t2))] <= 0\n",
    "    model += c1\n",
    "    model += c2\n",
    "    \n",
    "# objective Function\n",
    "obj_func = pulp.lpSum([level[t2] - level[t1] for (t1, t2) in tempGraph[TR_DEPENDENT]] + [z_parallel[to_string((t1, t2))] for (t1, t2) in tempGraph[TR_PARALLEL]] + [z_initiating[to_string((t1, t2))] for (t1, t2) in tempGraph[TR_INITIATING]])\n",
    "model += obj_func\n",
    "    \n",
    "model"
   ],
   "metadata": {
    "collapsed": false,
    "ExecuteTime": {
     "end_time": "2025-02-09T20:46:11.483202600Z",
     "start_time": "2025-02-09T20:46:11.462955800Z"
    }
   }
  },
  {
   "cell_type": "code",
   "execution_count": 113,
   "outputs": [],
   "source": [
    "status = model.solve()"
   ],
   "metadata": {
    "collapsed": false,
    "ExecuteTime": {
     "end_time": "2025-02-09T20:46:11.557867600Z",
     "start_time": "2025-02-09T20:46:11.483202600Z"
    }
   }
  },
  {
   "cell_type": "code",
   "execution_count": 114,
   "outputs": [
    {
     "name": "stdout",
     "output_type": "stream",
     "text": [
      "hp_b\"('customers',_'employees')\": 0.0\n",
      "hp_b\"('products',_'customers')\": 0.0\n",
      "hp_b\"('products',_'employees')\": 0.0\n",
      "level_customers: 2.0\n",
      "level_employees: 2.0\n",
      "level_items: 1.0\n",
      "level_orders: 0.0\n",
      "level_packages: 0.0\n",
      "level_products: 2.0\n"
     ]
    }
   ],
   "source": [
    "for var in model.variables():\n",
    "    print(f\"{var.name}: {var.value()}\")"
   ],
   "metadata": {
    "collapsed": false,
    "ExecuteTime": {
     "end_time": "2025-02-09T20:46:11.559016800Z",
     "start_time": "2025-02-09T20:46:11.526379100Z"
    }
   }
  },
  {
   "cell_type": "code",
   "execution_count": 115,
   "outputs": [
    {
     "name": "stdout",
     "output_type": "stream",
     "text": [
      "level_customers: 2.0\n",
      "level_orders: 0.0\n",
      "level_employees: 2.0\n",
      "level_products: 2.0\n",
      "level_packages: 0.0\n",
      "level_items: 1.0\n"
     ]
    }
   ],
   "source": [
    "for var in level.values():\n",
    "    print(f\"{var.name}: {var.value()}\")"
   ],
   "metadata": {
    "collapsed": false,
    "ExecuteTime": {
     "end_time": "2025-02-09T20:46:11.559016800Z",
     "start_time": "2025-02-09T20:46:11.542696900Z"
    }
   }
  },
  {
   "cell_type": "code",
   "execution_count": 116,
   "outputs": [],
   "source": [
    "def connected_components_undirected(used_nodes, edges):\n",
    "    graph = {}\n",
    "    for relation in edges:\n",
    "        for node in relation:\n",
    "            if node in used_nodes:  # Only add nodes that are in the types_of_level list\n",
    "                if node not in graph:\n",
    "                    graph[node] = set()\n",
    "                for other in relation:\n",
    "                    if other != node and other in used_nodes:\n",
    "                        graph[node].add(other)\n",
    "    \n",
    "    # Step 2: DFS to find connected components\n",
    "    def dfs(node, visited, component):\n",
    "        # Adding node to visited set and current component list\n",
    "        visited.add(node)\n",
    "        component.append(node)\n",
    "        for neighbor in graph.get(node, []):\n",
    "            if neighbor not in visited:\n",
    "                dfs(neighbor, visited, component)\n",
    "    \n",
    "    # Step 3: Find all connected components\n",
    "    visited = set()\n",
    "    connected_components = []\n",
    "    \n",
    "    for node in used_nodes:\n",
    "        if node not in visited:\n",
    "            component = []\n",
    "            dfs(node, visited, component)\n",
    "            connected_components.append(component)\n",
    "    \n",
    "    return connected_components"
   ],
   "metadata": {
    "collapsed": false,
    "ExecuteTime": {
     "end_time": "2025-02-09T20:46:11.595061500Z",
     "start_time": "2025-02-09T20:46:11.559016800Z"
    }
   }
  },
  {
   "cell_type": "code",
   "execution_count": 130,
   "outputs": [
    {
     "name": "stdout",
     "output_type": "stream",
     "text": [
      "Assignment of object types to layers:\n",
      "{2.0: {'products', 'customers', 'employees'}, 0.0: {'packages', 'orders'}, 1.0: {'items'}}\n",
      "\n",
      "Process View (without matching event types):\n",
      "{0.0: [['packages'], ['orders']], 1.0: [['items']], 2.0: [['products', 'customers', 'employees']]}\n",
      "\n",
      "Resulting Process Views with matching Eventtypes:\n",
      "{0.0: [(['packages'], {'create package', 'failed delivery', 'package delivered', 'send package'}), (['orders'], {'place order', 'confirm order', 'pay order', 'payment reminder'})], 1.0: [(['items'], {'reorder item', 'item out of stock', 'pick item'})], 2.0: [(['products', 'customers', 'employees'], set())]}\n"
     ]
    }
   ],
   "source": [
    "levels_dict = dict()\n",
    "for type in tempGraph['nodes']:\n",
    "    # print(f\"{level[type].name}: {level[type].value()}\")\n",
    "    levels_dict.setdefault(level[type].value(), set())\n",
    "    levels_dict[level[type].value()].add(type)\n",
    "\n",
    "resulting_process_view = {}\n",
    "print(\"Assignment of object types to layers:\")\n",
    "print(levels_dict)\n",
    "print(\"\")\n",
    "sorted_levels = [float(k) for k in levels_dict.keys()]\n",
    "sorted_levels.sort() # starting from the lowest level to the highest level\n",
    "for l in sorted_levels:\n",
    "    types_of_level = list(levels_dict[l])\n",
    "    connected_components_undirected(types_of_level, type_relations)\n",
    "    resulting_process_view[l] = connected_components_undirected(types_of_level, type_relations)\n",
    "\n",
    "print(\"Process View (without matching event types):\")\n",
    "print(resulting_process_view)\n",
    "print(\"\")\n",
    "\n",
    "resulting_process_view_with_events = {}\n",
    "# starting from the lowest to the highest level assign the eventtypes to the object groups\n",
    "remaining_ev_types = set(list(all_event_types))\n",
    "for l in sorted_levels:\n",
    "    ccs_with_event_types = []\n",
    "    for cc in resulting_process_view[l]:\n",
    "        requested_event_types = set()\n",
    "        for type in cc:\n",
    "            requested_event_types = requested_event_types.union(obj_typ_to_ev_type[type])\n",
    "            # print(f\"{type} requests: {requested_event_types}\")\n",
    "            \n",
    "        assigned_event_types = requested_event_types.intersection(remaining_ev_types)\n",
    "        # add cc and event types to result\n",
    "        ccs_with_event_types.append((cc, assigned_event_types))\n",
    "        #upadate remaining eventtypes\n",
    "        remaining_ev_types = remaining_ev_types - assigned_event_types\n",
    "            \n",
    "    resulting_process_view_with_events[l] = ccs_with_event_types\n",
    "\n",
    "print(\"Resulting Process Views with matching Eventtypes:\")\n",
    "print(resulting_process_view_with_events)"
   ],
   "metadata": {
    "collapsed": false,
    "ExecuteTime": {
     "end_time": "2025-02-09T21:02:34.478454800Z",
     "start_time": "2025-02-09T21:02:34.462589100Z"
    }
   }
  },
  {
   "cell_type": "code",
   "execution_count": null,
   "outputs": [],
   "source": [
    "# mine a process model for each each process view with matching event types\n"
   ],
   "metadata": {
    "collapsed": false,
    "ExecuteTime": {
     "start_time": "2025-02-09T20:46:11.621243700Z"
    }
   }
  }
 ],
 "metadata": {
  "kernelspec": {
   "display_name": "temporal-object-type-model-MTjW2rj9",
   "language": "python",
   "name": "python3"
  },
  "language_info": {
   "name": "python",
   "version": "3.9.13"
  }
 },
 "nbformat": 4,
 "nbformat_minor": 2
}
