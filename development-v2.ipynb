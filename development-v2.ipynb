{
 "cells": [
  {
   "cell_type": "markdown",
   "metadata": {},
   "source": [
    "# Temproal Object Type Model\n",
    "\n",
    "This notebook is used for the development phase of the algorithm."
   ]
  },
  {
   "cell_type": "code",
   "execution_count": 5,
   "metadata": {
    "ExecuteTime": {
     "end_time": "2025-02-13T09:21:43.388828400Z",
     "start_time": "2025-02-13T09:21:43.363757800Z"
    }
   },
   "outputs": [],
   "source": [
    "# imports\n",
    "from datetime import datetime\n",
    "from ocpa.objects.log.importer.ocel2.sqlite import factory as ocel_import_factory\n",
    "#from ocpa.objects.log.importer.ocel2.xml import factory as ocel_import_factory\n",
    "import json"
   ]
  },
  {
   "cell_type": "markdown",
   "source": [
    "## Algorithm based on process executions and connected components"
   ],
   "metadata": {
    "collapsed": false
   }
  },
  {
   "cell_type": "code",
   "execution_count": 6,
   "outputs": [
    {
     "name": "stdout",
     "output_type": "stream",
     "text": [
      "Index(['event_id', 'event_activity', 'event_timestamp', 'Customer Order',\n",
      "       'Transport Document', 'Container', 'Truck', 'Handling Unit', 'Forklift',\n",
      "       'Vehicle'],\n",
      "      dtype='object')\n",
      "['Customer Order', 'Transport Document', 'Container', 'Truck', 'Handling Unit', 'Forklift', 'Vehicle']\n",
      "13\n"
     ]
    }
   ],
   "source": [
    "# load the log\n",
    "# filename = \"./example-data/running-example.sqlite\"\n",
    "# filename = \"./example-data/totm-example.sqlite\"\n",
    "filename = \"./example-data/ContainerLogistics.sqlite\"\n",
    "# filename = \"./example-data/logistics.sqlite\"\n",
    "# filename = \"./example-data/order-management.sqlite\"\n",
    "# filename = \"./example-data/order-management.xml\"\n",
    "# filename = \"./example-data/order-management-ocel-1.sqlite\"\n",
    "# filename = \"./example-data/test-during.sqlite\"\n",
    "# filename = \"./example-data/test-initiating.sqlite\"\n",
    "# DATEFORMAT = \"%Y-%m-%d %H:%M:%S\"\n",
    "DATEFORMAT = \"%Y-%m-%d %H:%M:%S%z\"\n",
    "ocel = ocel_import_factory.apply(filename)\n",
    "\n",
    "print(len(ocel.process_executions))"
   ],
   "metadata": {
    "collapsed": false,
    "ExecuteTime": {
     "end_time": "2025-02-13T09:24:24.243488500Z",
     "start_time": "2025-02-13T09:21:43.377764400Z"
    }
   }
  },
  {
   "cell_type": "code",
   "execution_count": 7,
   "outputs": [],
   "source": [
    "# Help functions for OCEL2.0\n",
    "\n",
    "def get_all_event_objects(ocel, event_id):\n",
    "    obj_ids = []\n",
    "    for obj_type in ocel.object_types:\n",
    "        obj_ids += ocel.get_value(event_id, obj_type)\n",
    "    return obj_ids\n"
   ],
   "metadata": {
    "collapsed": false,
    "ExecuteTime": {
     "end_time": "2025-02-13T09:24:24.263916300Z",
     "start_time": "2025-02-13T09:24:24.243488500Z"
    }
   }
  },
  {
   "cell_type": "code",
   "execution_count": 8,
   "outputs": [
    {
     "name": "stdout",
     "output_type": "stream",
     "text": [
      "Done\n"
     ]
    }
   ],
   "source": [
    "# temporal relation constants (constants serving as a representation that is easier to understand than just the numbers)\n",
    "TR_TOTAL = \"total\"\n",
    "TR_DEPENDENT = \"D\"\n",
    "TR_DEPENDENT_INVERSE = \"Di\"\n",
    "TR_INITIATING = \"I\"\n",
    "TR_INITIATING_REVERSE = \"Ii\"\n",
    "TR_PARALLEL = \"P\"\n",
    "# temporal relations results\n",
    "h_temporal_relations: dict[tuple[str, str], dict[str, int]] = dict() # stores all the temporal relations found\n",
    "\n",
    "# Event cardinality constants\n",
    "EC_TOTAL = \"total\"\n",
    "EC_ZERO = \"0\"\n",
    "EC_ONE = \"1\"\n",
    "EC_ZERO_ONE = \"0...1\"\n",
    "EC_MANY = \"*\"\n",
    "EC_ZERO_MANY = \"0...*\"\n",
    "# event cardinality results\n",
    "h_event_cardinalities: dict[tuple[str, str], dict[str, int]] = dict() # stores all the temporal cardinalities found\n",
    "\n",
    "# Event cardinality constants\n",
    "LC_TOTAL = \"total\"\n",
    "LC_ZERO = \"0\"\n",
    "LC_ONE = \"1\"\n",
    "LC_ZERO_ONE = \"0...1\"\n",
    "LC_MANY = \"*\"\n",
    "LC_ZERO_MANY = \"0...*\"\n",
    "# event cardinality results\n",
    "h_log_cardinalities: dict[tuple[str, str], dict[str, int]] = dict() # stores all the temporal cardinalities found\n",
    "\n",
    "\n",
    "# object min times (omint_L(o))\n",
    "o_min_times: dict[str, datetime] = dict() # str identifier of the object maps to the earliest time recorded for that object in the event log\n",
    "# object max times (omaxt_L(o))\n",
    "o_max_times: dict[str, datetime] = dict() # str identifier of the object maps to the last time recorded for that object in the event log\n",
    "\n",
    "# get a list of all object types (or variable that is filled while passing through the process executions)\n",
    "type_relations: set[set[str,str]] = set() # stores all connected types\n",
    "\n",
    "o2o_o2o: dict[str, dict[str, set[str]]] = dict() # dict that describes which objects are connected to which types and for each type which object\n",
    "# o2o[obj1][type3] = [obj5, obj6]\n",
    "o2o_e2o: dict[str, dict[str, set[str]]] = dict()\n",
    "o2o: dict[str, dict[str, set[str]]] = dict()\n",
    "\n",
    "# a mapping from type to its objects\n",
    "type_to_object = dict()\n",
    "\n",
    "# get o2o information from ocel\n",
    "# toDo\n",
    "\n",
    "for px in ocel.process_executions:\n",
    "    for ev in px:\n",
    "        # event infos: objects and timestamps\n",
    "        ev_timestamp = datetime.strptime(str(ocel.get_value(ev, 'event_timestamp')), DATEFORMAT)\n",
    "        \n",
    "        objects_of_event = get_all_event_objects(ocel, ev)\n",
    "        for obj in objects_of_event:\n",
    "            # o2o updating\n",
    "            o2o.setdefault(obj, dict())\n",
    "            for type in ocel.object_types:\n",
    "                o2o[obj].setdefault(type, set())\n",
    "                o2o[obj][type].update(ocel.get_value(ev, type)) # add all objects connected via e2o to each object involved\n",
    "            # update lifespan information\n",
    "            o_min_times.setdefault(obj, ev_timestamp)\n",
    "            if ev_timestamp < o_min_times[obj]: # todo check if comparison of datetimes works correctly here\n",
    "                o_min_times[obj] = ev_timestamp\n",
    "            o_max_times.setdefault(obj, ev_timestamp)\n",
    "            if ev_timestamp > o_max_times[obj]: # todo check if comparison of datetimes works correctly here\n",
    "                o_max_times[obj] = ev_timestamp\n",
    "        \n",
    "        # compute event cardinality\n",
    "        involved_types = []\n",
    "        obj_count_per_type = dict()\n",
    "        for type in ocel.object_types:\n",
    "            obj_list = ocel.get_value(ev, type)\n",
    "            if not obj_list:\n",
    "                continue\n",
    "            else:\n",
    "                type_to_object.setdefault(type, set())\n",
    "                type_to_object[type].update(obj_list)\n",
    "                involved_types.append(type)\n",
    "                obj_count_per_type[type] = len(obj_list)\n",
    "        #created related types\n",
    "        for t1 in involved_types:\n",
    "            for t2 in involved_types:\n",
    "                if t1 != t2:\n",
    "                    type_relations.add(frozenset({t1, t2}))\n",
    "        #for all type pairs determine\n",
    "        for type_source in involved_types:\n",
    "            for type_target in ocel.object_types:\n",
    "                # add one to total\n",
    "                h_event_cardinalities.setdefault((type_source,type_target), dict())\n",
    "                h_event_cardinalities[(type_source,type_target)].setdefault(EC_TOTAL, 0)\n",
    "                h_event_cardinalities[(type_source,type_target)][EC_TOTAL] += 1\n",
    "                #determine cardinality\n",
    "                cardinality = 0\n",
    "                if type_target in obj_count_per_type.keys():\n",
    "                    cardinality = obj_count_per_type[type_target]\n",
    "                # add one to matching cardinalities\n",
    "                if cardinality == 0:\n",
    "                    h_event_cardinalities[(type_source,type_target)].setdefault(EC_ZERO, 0)\n",
    "                    h_event_cardinalities[(type_source,type_target)][EC_ZERO] += 1\n",
    "                    h_event_cardinalities[(type_source,type_target)].setdefault(EC_ZERO_ONE, 0)\n",
    "                    h_event_cardinalities[(type_source,type_target)][EC_ZERO_ONE] += 1\n",
    "                    h_event_cardinalities[(type_source,type_target)].setdefault(EC_ZERO_MANY, 0)\n",
    "                    h_event_cardinalities[(type_source,type_target)][EC_ZERO_MANY] += 1\n",
    "                elif cardinality == 1:\n",
    "                    h_event_cardinalities[(type_source,type_target)].setdefault(EC_ONE, 0)\n",
    "                    h_event_cardinalities[(type_source,type_target)][EC_ONE] += 1\n",
    "                    h_event_cardinalities[(type_source,type_target)].setdefault(EC_ZERO_ONE, 0)\n",
    "                    h_event_cardinalities[(type_source,type_target)][EC_ZERO_ONE] += 1\n",
    "                    h_event_cardinalities[(type_source,type_target)].setdefault(EC_MANY, 0)\n",
    "                    h_event_cardinalities[(type_source,type_target)][EC_MANY] += 1\n",
    "                    h_event_cardinalities[(type_source,type_target)].setdefault(EC_ZERO_MANY, 0)\n",
    "                    h_event_cardinalities[(type_source,type_target)][EC_ZERO_MANY] += 1\n",
    "                elif cardinality > 1:\n",
    "                    h_event_cardinalities[(type_source,type_target)].setdefault(EC_MANY, 0)\n",
    "                    h_event_cardinalities[(type_source,type_target)][EC_MANY] += 1\n",
    "                    h_event_cardinalities[(type_source,type_target)].setdefault(EC_ZERO_MANY, 0)\n",
    "                    h_event_cardinalities[(type_source,type_target)][EC_ZERO_MANY] += 1\n",
    "                    \n",
    "# compute log cardinality\n",
    "for type_source in ocel.object_types:\n",
    "    for type_target in ocel.object_types:\n",
    "        h_temporal_relations.setdefault((type_source,type_target), dict())\n",
    "        for obj in type_to_object[type_source]:\n",
    "            h_log_cardinalities.setdefault((type_source,type_target), dict())\n",
    "            h_log_cardinalities[(type_source,type_target)].setdefault(LC_TOTAL, 0)\n",
    "            h_log_cardinalities[(type_source,type_target)][LC_TOTAL] += 1\n",
    "            \n",
    "            cardinality = len(o2o[obj][type_target])\n",
    "            if type_source == 'products':\n",
    "                print(f\"Obj: {obj} Typ: {type_target} Card: {cardinality}\")\n",
    "                \n",
    "            if cardinality == 0:\n",
    "                h_log_cardinalities[(type_source,type_target)].setdefault(LC_ZERO, 0)\n",
    "                h_log_cardinalities[(type_source,type_target)][LC_ZERO] += 1\n",
    "                h_log_cardinalities[(type_source,type_target)].setdefault(LC_ZERO_ONE, 0)\n",
    "                h_log_cardinalities[(type_source,type_target)][LC_ZERO_ONE] += 1\n",
    "                h_log_cardinalities[(type_source,type_target)].setdefault(LC_ZERO_MANY, 0)\n",
    "                h_log_cardinalities[(type_source,type_target)][LC_ZERO_MANY] += 1\n",
    "            elif cardinality == 1:\n",
    "                h_log_cardinalities[(type_source,type_target)].setdefault(LC_ONE, 0)\n",
    "                h_log_cardinalities[(type_source,type_target)][LC_ONE] += 1\n",
    "                h_log_cardinalities[(type_source,type_target)].setdefault(LC_ZERO_ONE, 0)\n",
    "                h_log_cardinalities[(type_source,type_target)][LC_ZERO_ONE] += 1\n",
    "                h_log_cardinalities[(type_source,type_target)].setdefault(LC_MANY, 0)\n",
    "                h_log_cardinalities[(type_source,type_target)][LC_MANY] += 1\n",
    "                h_log_cardinalities[(type_source,type_target)].setdefault(LC_ZERO_MANY, 0)\n",
    "                h_log_cardinalities[(type_source,type_target)][LC_ZERO_MANY] += 1\n",
    "            elif cardinality > 1:\n",
    "                h_log_cardinalities[(type_source,type_target)].setdefault(LC_MANY, 0)\n",
    "                h_log_cardinalities[(type_source,type_target)][LC_MANY] += 1\n",
    "                h_log_cardinalities[(type_source,type_target)].setdefault(LC_ZERO_MANY, 0)\n",
    "                h_log_cardinalities[(type_source,type_target)][LC_ZERO_MANY] += 1\n",
    "\n",
    "            # compute temporal relations\n",
    "            for obj_target in o2o[obj][type_target]:\n",
    "                h_temporal_relations[(type_source,type_target)].setdefault(TR_TOTAL, 0)\n",
    "                h_temporal_relations[(type_source,type_target)][TR_TOTAL] += 1\n",
    "                if o_min_times[obj_target] <= o_min_times[obj] <= o_max_times[obj] <= o_max_times[obj_target]:\n",
    "                    h_temporal_relations[(type_source,type_target)].setdefault(TR_DEPENDENT, 0)\n",
    "                    h_temporal_relations[(type_source,type_target)][TR_DEPENDENT] += 1\n",
    "                if o_min_times[obj] <= o_min_times[obj_target] <= o_max_times[obj_target] <= o_max_times[obj]:\n",
    "                    h_temporal_relations[(type_source,type_target)].setdefault(TR_DEPENDENT_INVERSE, 0)\n",
    "                    h_temporal_relations[(type_source,type_target)][TR_DEPENDENT_INVERSE] += 1\n",
    "                if (o_min_times[obj] <= o_max_times[obj] <= o_min_times[obj_target] <= o_max_times[obj_target]) or (o_min_times[obj] < o_min_times[obj_target] <= o_max_times[obj] < o_max_times[obj_target]):\n",
    "                    h_temporal_relations[(type_source,type_target)].setdefault(TR_INITIATING, 0)\n",
    "                    h_temporal_relations[(type_source,type_target)][TR_INITIATING] += 1\n",
    "                if (o_min_times[obj_target] <= o_max_times[obj_target] <= o_min_times[obj] <= o_max_times[obj]) or (o_min_times[obj_target] < o_min_times[obj] <= o_max_times[obj_target] < o_max_times[obj]):\n",
    "                    h_temporal_relations[(type_source,type_target)].setdefault(TR_INITIATING_REVERSE, 0)\n",
    "                    h_temporal_relations[(type_source,type_target)][TR_INITIATING_REVERSE] += 1\n",
    "                # allways parallel\n",
    "                h_temporal_relations[(type_source,type_target)].setdefault(TR_PARALLEL, 0)\n",
    "                h_temporal_relations[(type_source,type_target)][TR_PARALLEL] += 1\n",
    "\n",
    "print(\"Done\")"
   ],
   "metadata": {
    "collapsed": false,
    "ExecuteTime": {
     "end_time": "2025-02-13T09:24:27.959120700Z",
     "start_time": "2025-02-13T09:24:24.327342500Z"
    }
   }
  },
  {
   "cell_type": "code",
   "execution_count": 9,
   "outputs": [],
   "source": [
    "def get_most_precise_lc(directed_type_tuple, tau, log_cardinalities):\n",
    "    \n",
    "    total = 0\n",
    "    if directed_type_tuple in log_cardinalities.keys() and LC_TOTAL in log_cardinalities[directed_type_tuple].keys():\n",
    "        total = log_cardinalities[directed_type_tuple][LC_TOTAL]\n",
    "    \n",
    "    if total == 0:\n",
    "        return \"ERROR 0\"\n",
    "    \n",
    "    if (LC_ZERO in log_cardinalities[directed_type_tuple].keys()) and ((log_cardinalities[directed_type_tuple][LC_ZERO] / total) >= tau):\n",
    "        return LC_ZERO\n",
    "    if (LC_ONE in log_cardinalities[directed_type_tuple].keys()) and ((log_cardinalities[directed_type_tuple][LC_ONE] / total) >= tau):\n",
    "        return LC_ONE\n",
    "    if (LC_ZERO_ONE in log_cardinalities[directed_type_tuple].keys()) and ((log_cardinalities[directed_type_tuple][LC_ZERO_ONE] / total) >= tau):\n",
    "        return LC_ZERO_ONE\n",
    "    if (LC_MANY in log_cardinalities[directed_type_tuple].keys()) and ((log_cardinalities[directed_type_tuple][LC_MANY] / total) >= tau):\n",
    "        return LC_MANY\n",
    "    if (LC_ZERO_MANY in log_cardinalities[directed_type_tuple].keys()) and ((log_cardinalities[directed_type_tuple][LC_ZERO_MANY] / total) >= tau):\n",
    "        return LC_ZERO_MANY\n",
    "    \n",
    "    return \"None\"\n",
    "\n",
    "def get_most_precise_ec(directed_type_tuple, tau, event_cardinalities):\n",
    "    \n",
    "    total = 0\n",
    "    if directed_type_tuple in event_cardinalities.keys() and EC_TOTAL in event_cardinalities[directed_type_tuple].keys():\n",
    "        total = event_cardinalities[directed_type_tuple][EC_TOTAL]\n",
    "    \n",
    "    if total == 0:\n",
    "        return \"ERROR 0\"\n",
    "    \n",
    "    if (EC_ZERO in event_cardinalities[directed_type_tuple].keys()) and ((event_cardinalities[directed_type_tuple][EC_ZERO] / total) >= tau):\n",
    "        return EC_ZERO\n",
    "    if (EC_ONE in event_cardinalities[directed_type_tuple].keys()) and ((event_cardinalities[directed_type_tuple][EC_ONE] / total) >= tau):\n",
    "        return EC_ONE\n",
    "    if (EC_ZERO_ONE in event_cardinalities[directed_type_tuple].keys()) and ((event_cardinalities[directed_type_tuple][EC_ZERO_ONE] / total) >= tau):\n",
    "        return EC_ZERO_ONE\n",
    "    if (EC_MANY in event_cardinalities[directed_type_tuple].keys()) and ((event_cardinalities[directed_type_tuple][EC_MANY] / total) >= tau):\n",
    "        return EC_MANY\n",
    "    if (EC_ZERO_MANY in event_cardinalities[directed_type_tuple].keys()) and ((event_cardinalities[directed_type_tuple][EC_ZERO_MANY] / total) >= tau):\n",
    "        return EC_ZERO_MANY\n",
    "    \n",
    "    return \"None\"\n",
    "\n",
    "def get_most_precise_tr(directed_type_tuple, tau, temporal_relation):\n",
    "    \n",
    "    total = 0\n",
    "    if directed_type_tuple in temporal_relation.keys() and EC_TOTAL in temporal_relation[directed_type_tuple].keys():\n",
    "        total = temporal_relation[directed_type_tuple][EC_TOTAL]\n",
    "    \n",
    "    if total == 0:\n",
    "        return \"ERROR 0\"\n",
    "    \n",
    "    if (TR_DEPENDENT in temporal_relation[directed_type_tuple].keys()) and ((temporal_relation[directed_type_tuple][TR_DEPENDENT] / total) >= tau):\n",
    "        return TR_DEPENDENT\n",
    "    if (TR_DEPENDENT_INVERSE in temporal_relation[directed_type_tuple].keys()) and ((temporal_relation[directed_type_tuple][TR_DEPENDENT_INVERSE] / total) >= tau):\n",
    "        return TR_DEPENDENT_INVERSE\n",
    "    if (TR_INITIATING in temporal_relation[directed_type_tuple].keys()) and ((temporal_relation[directed_type_tuple][TR_INITIATING] / total) >= tau):\n",
    "        return TR_INITIATING\n",
    "    if (TR_INITIATING_REVERSE in temporal_relation[directed_type_tuple].keys()) and ((temporal_relation[directed_type_tuple][TR_INITIATING_REVERSE] / total) >= tau):\n",
    "        return TR_INITIATING_REVERSE\n",
    "    if (TR_PARALLEL in temporal_relation[directed_type_tuple].keys()) and ((temporal_relation[directed_type_tuple][TR_PARALLEL] / total) >= tau):\n",
    "        return TR_PARALLEL\n",
    "    \n",
    "    return \"None\""
   ],
   "metadata": {
    "collapsed": false,
    "ExecuteTime": {
     "end_time": "2025-02-13T09:24:28.001171700Z",
     "start_time": "2025-02-13T09:24:27.965121300Z"
    }
   }
  },
  {
   "cell_type": "code",
   "execution_count": 10,
   "outputs": [
    {
     "name": "stdout",
     "output_type": "stream",
     "text": [
      "Vehicle -> Forklift\n",
      "LC: * - *\n",
      "EC: 0...1 - 0...1\n",
      "TR: D\n",
      "\n",
      "Truck -> Container\n",
      "LC: 1 - *\n",
      "EC: 0...1 - 1\n",
      "TR: Di\n",
      "\n",
      "Vehicle -> Transport Document\n",
      "LC: * - *\n",
      "EC: 0...1 - 0...1\n",
      "TR: P\n",
      "\n",
      "Container -> Handling Unit\n",
      "LC: 1 - *\n",
      "EC: 0...1 - 0...1\n",
      "TR: Di\n",
      "\n",
      "Forklift -> Container\n",
      "LC: * - *\n",
      "EC: 0...1 - 1\n",
      "TR: Di\n",
      "\n",
      "Container -> Transport Document\n",
      "LC: * - *\n",
      "EC: 0...* - 0\n",
      "TR: P\n",
      "\n",
      "Truck -> Handling Unit\n",
      "LC: 1 - *\n",
      "EC: 0...1 - 0...1\n",
      "TR: Di\n",
      "\n",
      "Vehicle -> Container\n",
      "LC: 1 - *\n",
      "EC: 0 - 0...1\n",
      "TR: Di\n",
      "\n",
      "Customer Order -> Transport Document\n",
      "LC: 1 - 1\n",
      "EC: 0...1 - 0...1\n",
      "TR: I\n"
     ]
    }
   ],
   "source": [
    "tau = 0.9\n",
    "additional_t2t = {}\n",
    "# additional_t2t = {frozenset({'Customer Order', 'Transportation Documents'})}\n",
    "#merge type relations\n",
    "merged_type_relations = type_relations.union(additional_t2t)\n",
    "# for each connection give the 6 relations\n",
    "for connected_types in merged_type_relations:\n",
    "    t1, t2 = connected_types\n",
    "    print(f\"{t1} -> {t2}\")\n",
    "    \n",
    "    # get log cardinality\n",
    "    lc = get_most_precise_lc((t1, t2), tau, h_log_cardinalities)\n",
    "    lc_i = get_most_precise_lc((t2, t1), tau, h_log_cardinalities)\n",
    "    print(f\"LC: {lc_i} - {lc}\")\n",
    "    # get event cardinality\n",
    "    ec = get_most_precise_ec((t1, t2), tau, h_event_cardinalities)\n",
    "    ec_i = get_most_precise_ec((t2, t1), tau, h_event_cardinalities)\n",
    "    print(f\"EC: {ec_i} - {ec}\")\n",
    "    # get temporal relation\n",
    "    tr = get_most_precise_tr((t1, t2), tau, h_temporal_relations)\n",
    "    tr_i = get_most_precise_tr((t2, t1), tau, h_temporal_relations)\n",
    "    print(f\"TR: {tr}\")\n",
    "    #print(f\"TRi: {tr_i}\")\n",
    "    print(\"\")"
   ],
   "metadata": {
    "collapsed": false,
    "ExecuteTime": {
     "end_time": "2025-02-13T09:24:28.003215100Z",
     "start_time": "2025-02-13T09:24:27.974802600Z"
    }
   }
  },
  {
   "cell_type": "code",
   "execution_count": 11,
   "outputs": [
    {
     "name": "stdout",
     "output_type": "stream",
     "text": [
      "Test\n"
     ]
    }
   ],
   "source": [
    "print(\"Test\")"
   ],
   "metadata": {
    "collapsed": false,
    "ExecuteTime": {
     "end_time": "2025-02-13T09:24:28.008732400Z",
     "start_time": "2025-02-13T09:24:27.988345200Z"
    }
   }
  }
 ],
 "metadata": {
  "kernelspec": {
   "display_name": "temporal-object-type-model-MTjW2rj9",
   "language": "python",
   "name": "python3"
  },
  "language_info": {
   "name": "python",
   "version": "3.9.13"
  }
 },
 "nbformat": 4,
 "nbformat_minor": 2
}
